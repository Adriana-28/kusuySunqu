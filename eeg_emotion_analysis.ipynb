{
  "metadata": {
    "kernelspec": {
      "language": "python",
      "display_name": "Python 3",
      "name": "python3"
    },
    "language_info": {
      "name": "python",
      "version": "3.10.14",
      "mimetype": "text/x-python",
      "codemirror_mode": {
        "name": "ipython",
        "version": 3
      },
      "pygments_lexer": "ipython3",
      "nbconvert_exporter": "python",
      "file_extension": ".py"
    },
    "kaggle": {
      "accelerator": "nvidiaTeslaT4",
      "dataSources": [
        {
          "sourceId": 472319,
          "sourceType": "datasetVersion",
          "datasetId": 218098
        }
      ],
      "dockerImageVersionId": 30787,
      "isInternetEnabled": false,
      "language": "python",
      "sourceType": "notebook",
      "isGpuEnabled": true
    },
    "colab": {
      "name": "eeg_emotion_analysis",
      "provenance": []
    }
  },
  "nbformat_minor": 0,
  "nbformat": 4,
  "cells": [
    {
      "source": [
        "# IMPORTANT: RUN THIS CELL IN ORDER TO IMPORT YOUR KAGGLE DATA SOURCES,\n",
        "# THEN FEEL FREE TO DELETE THIS CELL.\n",
        "# NOTE: THIS NOTEBOOK ENVIRONMENT DIFFERS FROM KAGGLE'S PYTHON\n",
        "# ENVIRONMENT SO THERE MAY BE MISSING LIBRARIES USED BY YOUR\n",
        "# NOTEBOOK.\n",
        "import kagglehub\n",
        "phhasian0710_seed_iv_path = kagglehub.dataset_download('phhasian0710/seed-iv')\n",
        "\n",
        "print('Data source import complete.')\n"
      ],
      "metadata": {
        "id": "7r6UIGj7ca8o"
      },
      "cell_type": "code",
      "outputs": [],
      "execution_count": null
    },
    {
      "cell_type": "code",
      "source": [
        "# This Python 3 environment comes with many helpful analytics libraries installed\n",
        "# It is defined by the kaggle/python Docker image: https://github.com/kaggle/docker-python\n",
        "# For example, here's several helpful packages to load\n",
        "\n",
        "import numpy as np # linear algebra\n",
        "import pandas as pd # data processing, CSV file I/O (e.g. pd.read_csv)\n",
        "\n",
        "# Input data files are available in the read-only \"../input/\" directory\n",
        "# For example, running this (by clicking run or pressing Shift+Enter) will list all files under the input directory\n",
        "\n",
        "import os\n",
        "for dirname, _, filenames in os.walk('/kaggle/input'):\n",
        "    for filename in filenames:\n",
        "        print(os.path.join(dirname, filename))\n",
        "\n",
        "# You can write up to 20GB to the current directory (/kaggle/working/) that gets preserved as output when you create a version using \"Save & Run All\"\n",
        "# You can also write temporary files to /kaggle/temp/, but they won't be saved outside of the current session"
      ],
      "metadata": {
        "_uuid": "8f2839f25d086af736a60e9eeb907d3b93b6e0e5",
        "_cell_guid": "b1076dfc-b9ad-4769-8c92-a6c4dae69d19",
        "execution": {
          "iopub.status.busy": "2024-10-15T18:41:14.92894Z",
          "iopub.execute_input": "2024-10-15T18:41:14.929306Z",
          "iopub.status.idle": "2024-10-15T18:41:15.624884Z",
          "shell.execute_reply.started": "2024-10-15T18:41:14.929268Z",
          "shell.execute_reply": "2024-10-15T18:41:15.623955Z"
        },
        "trusted": true,
        "id": "k9nf5r48ca8u"
      },
      "execution_count": null,
      "outputs": []
    },
    {
      "cell_type": "code",
      "source": [
        "import numpy as np\n",
        "import tensorflow as tf\n",
        "\n",
        "import scipy\n",
        "import os\n",
        "from os import listdir\n",
        "from scipy.io import loadmat\n",
        "import pickle\n",
        "from sklearn.model_selection import StratifiedKFold\n",
        "from sklearn.model_selection import train_test_split\n",
        "from tensorflow.keras import regularizers\n",
        "from tensorflow.keras import activations"
      ],
      "metadata": {
        "execution": {
          "iopub.status.busy": "2024-10-15T18:41:15.628197Z",
          "iopub.execute_input": "2024-10-15T18:41:15.628591Z",
          "iopub.status.idle": "2024-10-15T18:41:29.326011Z",
          "shell.execute_reply.started": "2024-10-15T18:41:15.628551Z",
          "shell.execute_reply": "2024-10-15T18:41:29.32519Z"
        },
        "trusted": true,
        "id": "4eNe_NOYca8v"
      },
      "execution_count": null,
      "outputs": []
    },
    {
      "cell_type": "code",
      "source": [
        "import os\n",
        "import numpy as np\n",
        "from scipy.io import loadmat\n",
        "\n",
        "# Correct paths for Kaggle dataset\n",
        "directories = [\"/kaggle/input/seed-iv/eeg_feature_smooth/{}\".format(i+1) for i in range(3)]\n",
        "print(directories)\n",
        "\n",
        "# EEG channel coordinates\n",
        "channel_coords = [\n",
        "    ['0', '0', 'AF3', 'FP1', 'FPZ', 'FP2', 'AF4', '0', '0'],\n",
        "    ['F7', 'F5', 'F3', 'F1', 'FZ', 'F2', 'F4', 'F6', 'F8'],\n",
        "    ['FT7', 'FC5', 'FC3', 'FC1', 'FCZ', 'FC2', 'FC4', 'FC6', 'FT8'],\n",
        "    ['T7', 'C5', 'C3', 'C1', 'CZ', 'C2', 'C4', 'C6', 'T8'],\n",
        "    ['TP7', 'CP5', 'CP3', 'CP1', 'CPZ', 'CP2', 'CP4', 'CP6', 'TP8'],\n",
        "    ['P7', 'P5', 'P3', 'P1', 'PZ', 'P2', 'P4', 'P6', 'P8'],\n",
        "    ['0', 'PO7', 'PO5', 'PO3', 'POZ', 'PO4', 'PO6', 'PO8', '0'],\n",
        "    ['0', '0', 'CB1', 'O1', 'OZ', 'O2', 'CB2', '0', '0']\n",
        "]\n",
        "\n",
        "channel_list = [\n",
        "    'FP1', 'FPZ', 'FP2', 'AF3', 'AF4', 'F7', 'F5', 'F3', 'F1', 'FZ',\n",
        "    'F2', 'F4', 'F6', 'F8', 'FT7', 'FC5', 'FC3', 'FC1', 'FCZ', 'FC2',\n",
        "    'FC4', 'FC6', 'FT8', 'T7', 'C5', 'C3', 'C1', 'CZ', 'C2', 'C4',\n",
        "    'C6', 'T8', 'TP7', 'CP5', 'CP3', 'CP1', 'CPZ', 'CP2', 'CP4',\n",
        "    'CP6', 'TP8', 'P7', 'P5', 'P3', 'P1', 'PZ', 'P2', 'P4', 'P6',\n",
        "    'P8', 'PO7', 'PO5', 'PO3', 'POZ', 'PO4', 'PO6', 'PO8', 'CB1',\n",
        "    'O1', 'OZ', 'O2', 'CB2'\n",
        "]\n",
        "\n",
        "# Verifying the length of channel coordinates\n",
        "print(len(channel_coords), len(channel_coords[0]))\n",
        "\n",
        "# Creating a dictionary to map channel names to coordinates\n",
        "coord_dict = {}\n",
        "for n in range(len(channel_list)):\n",
        "    for i, l in enumerate(channel_coords):\n",
        "        for j, x in enumerate(l):\n",
        "            if channel_list[n] == x:\n",
        "                coord_dict[n] = (i, j)\n",
        "print(coord_dict)\n",
        "\n",
        "# Initialize the array with the correct shape\n",
        "n = 24\n",
        "perSample = ['de_movingAve', 'de_LDS', 'psd_movingAve', 'psd_LDS']\n",
        "array = np.zeros(shape=(len(directories), len(os.listdir(directories[0])), n, 4, 8, 9, 5, 64))\n",
        "\n",
        "# Iterate over directories to load and process data\n",
        "for h, dire in enumerate(directories):\n",
        "    print(dire)\n",
        "    data = [loadmat(os.path.join(dire, file)) for file in os.listdir(dire)]\n",
        "    for i, bigsample in enumerate(data):\n",
        "        for j in range(n):\n",
        "            for k, key in enumerate(perSample):\n",
        "                # Transpose and pad the sample\n",
        "                sample = np.transpose(np.array(bigsample[key + str(j+1)]), (0, 2, 1))\n",
        "                sample = np.pad(sample, [(0, 0), (0, 0), (0, 64 - sample.shape[2])])\n",
        "                # Fill the array based on channel locations\n",
        "                for l, channel in enumerate(sample):\n",
        "                    array[h][i][j][k][coord_dict[l][0]][coord_dict[l][1]] = channel\n",
        "\n",
        "# Output the shape of the final array\n",
        "print(array.shape)\n"
      ],
      "metadata": {
        "execution": {
          "iopub.status.busy": "2024-10-15T18:41:29.32714Z",
          "iopub.execute_input": "2024-10-15T18:41:29.327646Z",
          "iopub.status.idle": "2024-10-15T18:41:36.629397Z",
          "shell.execute_reply.started": "2024-10-15T18:41:29.327612Z",
          "shell.execute_reply": "2024-10-15T18:41:36.628416Z"
        },
        "trusted": true,
        "id": "Nq1iwZy_ca8v"
      },
      "execution_count": null,
      "outputs": []
    },
    {
      "cell_type": "code",
      "source": [
        "_X = array.reshape(np.prod(array.shape[0:3]), *array.shape[3:])\n",
        "print(_X.shape)\n",
        "X_loso = array[:,:,:,1,:,:,]\n",
        "X_loso = np.transpose(X_loso, (0,1,2,6,3,4,5))\n",
        "print(X_loso.shape)"
      ],
      "metadata": {
        "execution": {
          "iopub.status.busy": "2024-10-15T18:41:36.631592Z",
          "iopub.execute_input": "2024-10-15T18:41:36.631927Z",
          "iopub.status.idle": "2024-10-15T18:41:36.638221Z",
          "shell.execute_reply.started": "2024-10-15T18:41:36.631891Z",
          "shell.execute_reply": "2024-10-15T18:41:36.637302Z"
        },
        "trusted": true,
        "id": "l3vNeG2Hca8w"
      },
      "execution_count": null,
      "outputs": []
    },
    {
      "cell_type": "code",
      "source": [
        "session1_label = [1,2,3,0,2,0,0,1,0,1,2,1,1,1,2,3,2,2,3,3,0,3,0,3]\n",
        "session2_label = [2,1,3,0,0,2,0,2,3,3,2,3,2,0,1,1,2,1,0,3,0,1,3,1]\n",
        "session3_label = [1,2,2,1,3,3,3,1,1,2,1,0,2,3,3,0,2,3,0,0,2,0,1,0]\n",
        "labels = {0: 'neutral', 1: 'sad', 2: 'fear', 3: 'happy'}\n",
        "\n",
        "y = np.array(session1_label * 15 + session2_label * 15 + session3_label * 15)\n",
        "\n",
        "print(y.shape)\n",
        "y_loso = np.reshape(y, (3,15,24))\n",
        "print(y_loso.shape)"
      ],
      "metadata": {
        "execution": {
          "iopub.status.busy": "2024-10-15T18:41:36.639339Z",
          "iopub.execute_input": "2024-10-15T18:41:36.639623Z",
          "iopub.status.idle": "2024-10-15T18:41:36.659107Z",
          "shell.execute_reply.started": "2024-10-15T18:41:36.639591Z",
          "shell.execute_reply": "2024-10-15T18:41:36.658109Z"
        },
        "trusted": true,
        "id": "7UiXoYc2ca8x"
      },
      "execution_count": null,
      "outputs": []
    },
    {
      "cell_type": "code",
      "source": [
        "def crossval_loso(generate_model, n_epochs, X, y):\n",
        "    cvscores = []\n",
        "    for i in range(10):\n",
        "        a = [x for x in range(11) if x != i]\n",
        "        print(a)\n",
        "        X_train = X[:,a,:,:,:,:,:]\n",
        "        X_test =  X[:,[i],:,:,:,:,:]\n",
        "        X_train = X_train.reshape(np.prod(X_train.shape[0:3]), *X_train.shape[3:])\n",
        "        X_test = X_test.reshape(np.prod(X_test.shape[0:3]), *X_test.shape[3:])\n",
        "        y_train = y[:,a,:]\n",
        "        y_test = y[:, [i], :]\n",
        "        y_train = y_train.flatten()\n",
        "        y_test = y_test.flatten()\n",
        "        print(X_train.shape, y_train.shape, X_test.shape, y_test.shape)\n",
        "        model = generate_model()\n",
        "        model.compile(optimizer='adam',\n",
        "              loss=tf.keras.losses.SparseCategoricalCrossentropy(from_logits=True),\n",
        "              metrics=['accuracy'])\n",
        "        print('------------------------------------------------------------------------')\n",
        "        print(f'Training for fold {i} ...')\n",
        "        model.fit(X_train, y_train, epochs=n_epochs, verbose=1) # validation_split=0.2)\n",
        "        scores = model.evaluate(X_test, y_test, verbose=2)\n",
        "        print(\"Score for fold %d - %s: %.6f%%\" % (i, model.metrics_names[1], scores[1]*100))\n",
        "        cvscores.append(scores[1])\n",
        "    print('------------------------------------------------------------------------')\n",
        "    print(\"Avg accuracies: %.6f%% (+/- %.6f%%)\" % (np.mean(cvscores), np.std(cvscores)))"
      ],
      "metadata": {
        "execution": {
          "iopub.status.busy": "2024-10-15T18:41:36.660274Z",
          "iopub.execute_input": "2024-10-15T18:41:36.661102Z",
          "iopub.status.idle": "2024-10-15T18:41:36.672212Z",
          "shell.execute_reply.started": "2024-10-15T18:41:36.661057Z",
          "shell.execute_reply": "2024-10-15T18:41:36.671338Z"
        },
        "trusted": true,
        "id": "ZOaKkZuBca8x"
      },
      "execution_count": null,
      "outputs": []
    },
    {
      "cell_type": "code",
      "source": [
        "def crossval(generate_model, n_epochs, X_train, y_train, X_test, y_test, filename = None):\n",
        "    kfold = StratifiedKFold(n_splits=4, shuffle=True, random_state=0)\n",
        "    bestmodel = None\n",
        "    bestAcc = 0\n",
        "    cvscores = []\n",
        "    fold = 1\n",
        "    for train, test in kfold.split(X_train, y_train):\n",
        "        model = generate_model()\n",
        "        model.compile(optimizer='adam',\n",
        "              loss=tf.keras.losses.SparseCategoricalCrossentropy(from_logits=True),\n",
        "              metrics=['accuracy'])\n",
        "        print('------------------------------------------------------------------------')\n",
        "        print(f'Training for fold {fold} ...')\n",
        "        model.fit(X_train[train], y_train[train],epochs=n_epochs, verbose=1) # validation_split=0.2)\n",
        "        scores = model.evaluate(X_train[test], y_train[test], verbose=1)\n",
        "        print(\"Score for fold %d - %s: %.2f%%\" % (fold, model.metrics_names[1], scores[1]*100))\n",
        "        if(scores[1] > bestAcc):\n",
        "            bestAcc = scores[1]\n",
        "            bestmodel = model\n",
        "        cvscores.append(scores[1] * 100)\n",
        "        fold += 1\n",
        "    print('------------------------------------------------------------------------')\n",
        "    print(\"Avg accuracies: %.2f%% (+/- %.2f%%)\" % (np.mean(cvscores), np.std(cvscores)))\n",
        "    test_loss, test_acc = bestmodel.evaluate(X_test,  y_test, verbose=2)\n",
        "    print('\\nTest accuracy:', test_acc)\n",
        "    if filename:\n",
        "        pickle.dump( bestmodel, open( filename, \"wb\" ) )"
      ],
      "metadata": {
        "execution": {
          "iopub.status.busy": "2024-10-15T18:41:36.673287Z",
          "iopub.execute_input": "2024-10-15T18:41:36.673574Z",
          "iopub.status.idle": "2024-10-15T18:41:36.683884Z",
          "shell.execute_reply.started": "2024-10-15T18:41:36.673537Z",
          "shell.execute_reply": "2024-10-15T18:41:36.683074Z"
        },
        "trusted": true,
        "id": "YicUCpeAca8y"
      },
      "execution_count": null,
      "outputs": []
    },
    {
      "cell_type": "code",
      "source": [
        "def fully_conv():\n",
        "    return tf.keras.Sequential([\n",
        "    tf.keras.layers.SeparableConv1D(\n",
        "128, 3, data_format='channels_last', padding=\"same\", activation='relu',input_shape=X.shape[1:]),\n",
        "    tf.keras.layers.MaxPooling1D(\n",
        "    pool_size=2, strides=2, data_format=\"channels_last\"),\n",
        "    tf.keras.layers.SeparableConv1D(\n",
        "128, 3, data_format='channels_last', padding=\"same\", activation='relu'),\n",
        "    tf.keras.layers.MaxPooling1D(\n",
        "    pool_size=2, strides=2, data_format=\"channels_last\"),\n",
        "    tf.keras.layers.SeparableConv1D(\n",
        "128, 3, data_format='channels_last', padding=\"same\", activation='relu'),\n",
        "    tf.keras.layers.MaxPooling1D(\n",
        "    pool_size=2, strides=2, data_format=\"channels_last\"),\n",
        "    tf.keras.layers.SeparableConv1D(\n",
        "128, 3, data_format='channels_last', padding=\"same\", activation='relu'),\n",
        "    tf.keras.layers.MaxPooling1D(\n",
        "    pool_size=2, strides=2, data_format=\"channels_last\"),\n",
        "    tf.keras.layers.Flatten(),\n",
        "    tf.keras.layers.Dense(128, activation='relu'),\n",
        "    tf.keras.layers.Dense(10)\n",
        "])"
      ],
      "metadata": {
        "execution": {
          "iopub.status.busy": "2024-10-15T18:41:36.685005Z",
          "iopub.execute_input": "2024-10-15T18:41:36.685294Z",
          "iopub.status.idle": "2024-10-15T18:41:36.697361Z",
          "shell.execute_reply.started": "2024-10-15T18:41:36.685262Z",
          "shell.execute_reply": "2024-10-15T18:41:36.696504Z"
        },
        "trusted": true,
        "id": "DR1ez5LEca8z"
      },
      "execution_count": null,
      "outputs": []
    },
    {
      "cell_type": "code",
      "source": [
        "def single_conv():\n",
        "    return tf.keras.Sequential([\n",
        "    tf.keras.layers.Conv1D(\n",
        "32, 3, activation='relu',input_shape=X.shape[1:]),\n",
        "    tf.keras.layers.MaxPooling1D(\n",
        "    pool_size=2, strides=2, data_format=\"channels_last\"),\n",
        "    tf.keras.layers.Flatten(),\n",
        "    tf.keras.layers.Dense(128, activation='relu'),\n",
        "    tf.keras.layers.Dense(32),\n",
        "    tf.keras.layers.Dense(4)\n",
        "])\n",
        "def LSTM():\n",
        "    return tf.keras.Sequential([\n",
        "    tf.keras.layers.LSTM(100),\n",
        "    tf.keras.layers.Dense(128, activation='relu'),\n",
        "    tf.keras.layers.Dense(10)\n",
        "    ])\n",
        "def dense():\n",
        "    return tf.keras.Sequential([\n",
        "    tf.keras.layers.Flatten(input_shape=X.shape[1:]),\n",
        "    tf.keras.layers.Dense(128, activation='relu'),\n",
        "    tf.keras.layers.Dense(32),\n",
        "    tf.keras.layers.Dense(4)\n",
        "])"
      ],
      "metadata": {
        "execution": {
          "iopub.status.busy": "2024-10-15T18:41:36.698507Z",
          "iopub.execute_input": "2024-10-15T18:41:36.698825Z",
          "iopub.status.idle": "2024-10-15T18:41:36.711157Z",
          "shell.execute_reply.started": "2024-10-15T18:41:36.698764Z",
          "shell.execute_reply": "2024-10-15T18:41:36.71038Z"
        },
        "trusted": true,
        "id": "hKPGjBHTca8z"
      },
      "execution_count": null,
      "outputs": []
    },
    {
      "cell_type": "code",
      "source": [
        "def twodConv():\n",
        "    return tf.keras.Sequential([\n",
        "    tf.keras.layers.Conv2D(\n",
        "32, 3, padding=\"same\", activation=\"relu\",input_shape=X.shape[1:]),\n",
        "    tf.keras.layers.MaxPooling2D(\n",
        "    pool_size=2, strides=2, data_format=\"channels_last\"),\n",
        "    tf.keras.layers.BatchNormalization(center=True, scale=True),\n",
        "    tf.keras.layers.Conv2D(\n",
        "64, 3, padding=\"same\", activation=\"relu\",input_shape=X.shape[1:]),\n",
        "    tf.keras.layers.MaxPooling2D(\n",
        "    pool_size=2, strides=2, data_format=\"channels_last\"),\n",
        "    tf.keras.layers.BatchNormalization(center=True, scale=True),\n",
        "    tf.keras.layers.Flatten(),\n",
        "    tf.keras.layers.Dense(128, activation='relu'),\n",
        "    tf.keras.layers.Dense(10)\n",
        "])\n",
        "def threedConv():\n",
        "    model = tf.keras.Sequential()\n",
        "\n",
        "    model.add(tf.keras.layers.Conv3D(32, kernel_size=5, padding=\"same\", input_shape=X.shape[1:]))\n",
        "    model.add(tf.keras.layers.BatchNormalization(trainable=False))\n",
        "    model.add(tf.keras.layers.Activation(activations.relu))\n",
        "    model.add(tf.keras.layers.Dropout(0.5))\n",
        "    model.add(tf.keras.layers.MaxPooling3D(pool_size=(2, 2, 2)))\n",
        "\n",
        "    model.add(tf.keras.layers.Flatten())\n",
        "    model.add(tf.keras.layers.Dense(256))\n",
        "    model.add(tf.keras.layers.BatchNormalization(trainable=False))\n",
        "    model.add(tf.keras.layers.Activation(activations.relu))\n",
        "    model.add(tf.keras.layers.Dropout(0.5))\n",
        "    model.add(tf.keras.layers.Dense(10))\n",
        "    return model\n",
        "def convlstm2d():\n",
        "    model = tf.keras.Sequential()\n",
        "    model.add(tf.keras.layers.ConvLSTM2D(16, kernel_size=5, padding=\"same\", return_sequences = False, input_shape=X.shape[1:]))\n",
        "    model.add(tf.keras.layers.Dropout(0.2))\n",
        "    model.add(tf.keras.layers.Flatten())\n",
        "    model.add(tf.keras.layers.Dense(256, activation=\"relu\"))\n",
        "    model.add(tf.keras.layers.Dense(10))\n",
        "    return model"
      ],
      "metadata": {
        "execution": {
          "iopub.status.busy": "2024-10-15T18:41:36.714821Z",
          "iopub.execute_input": "2024-10-15T18:41:36.715107Z",
          "iopub.status.idle": "2024-10-15T18:41:36.728705Z",
          "shell.execute_reply.started": "2024-10-15T18:41:36.715077Z",
          "shell.execute_reply": "2024-10-15T18:41:36.72783Z"
        },
        "trusted": true,
        "id": "ztv6RNdqca80"
      },
      "execution_count": null,
      "outputs": []
    },
    {
      "cell_type": "code",
      "source": [
        "X = _X.transpose(0, 5, 1,2,3,4)\n",
        "print(X.shape)\n",
        "X = X.reshape(X.shape[0], X.shape[1], np.prod(X.shape[2:]))\n",
        "print(X.shape)\n",
        "\n",
        "X_train, X_test, y_train, y_test = train_test_split(\n",
        "    X, y, test_size=0.2, random_state=42)"
      ],
      "metadata": {
        "execution": {
          "iopub.status.busy": "2024-10-15T18:41:36.729878Z",
          "iopub.execute_input": "2024-10-15T18:41:36.73016Z",
          "iopub.status.idle": "2024-10-15T18:41:36.989446Z",
          "shell.execute_reply.started": "2024-10-15T18:41:36.730128Z",
          "shell.execute_reply": "2024-10-15T18:41:36.988647Z"
        },
        "trusted": true,
        "id": "QjJW-Tq2ca80"
      },
      "execution_count": null,
      "outputs": []
    },
    {
      "cell_type": "code",
      "source": [
        "# crossval(dense, 40, X_train, y_train, X_test, y_test)"
      ],
      "metadata": {
        "execution": {
          "iopub.status.busy": "2024-10-15T18:41:36.990445Z",
          "iopub.execute_input": "2024-10-15T18:41:36.99075Z",
          "iopub.status.idle": "2024-10-15T18:41:36.994966Z",
          "shell.execute_reply.started": "2024-10-15T18:41:36.990717Z",
          "shell.execute_reply": "2024-10-15T18:41:36.994009Z"
        },
        "trusted": true,
        "id": "COFBgmV9ca81"
      },
      "execution_count": null,
      "outputs": []
    },
    {
      "cell_type": "code",
      "source": [
        "# crossval(single_conv, 40, X_train, y_train, X_test, y_test)"
      ],
      "metadata": {
        "execution": {
          "iopub.status.busy": "2024-10-15T18:41:36.996205Z",
          "iopub.execute_input": "2024-10-15T18:41:36.99688Z",
          "iopub.status.idle": "2024-10-15T18:41:37.009064Z",
          "shell.execute_reply.started": "2024-10-15T18:41:36.996835Z",
          "shell.execute_reply": "2024-10-15T18:41:37.008183Z"
        },
        "trusted": true,
        "id": "x36a3iglca81"
      },
      "execution_count": null,
      "outputs": []
    },
    {
      "cell_type": "code",
      "source": [
        "X = _X.transpose(0, 5, 2,3, 4, 1)[:,:,:,:,:,:]\n",
        "\n",
        "X = X.reshape(X.shape[0], X.shape[1], X.shape[2], X.shape[3], np.prod(X.shape[4:]))\n",
        "print(X.shape)\n",
        "X_train, X_test, y_train, y_test = train_test_split(\n",
        "    X, y, test_size=0.2, random_state=42)"
      ],
      "metadata": {
        "execution": {
          "iopub.status.busy": "2024-10-15T18:41:37.010123Z",
          "iopub.execute_input": "2024-10-15T18:41:37.010452Z",
          "iopub.status.idle": "2024-10-15T18:41:37.731904Z",
          "shell.execute_reply.started": "2024-10-15T18:41:37.010419Z",
          "shell.execute_reply": "2024-10-15T18:41:37.731081Z"
        },
        "trusted": true,
        "id": "u1WRArM0ca81"
      },
      "execution_count": null,
      "outputs": []
    },
    {
      "cell_type": "code",
      "source": [
        "# crossval(threedConv, 100, X_train, y_train, X_test, y_test)"
      ],
      "metadata": {
        "execution": {
          "iopub.status.busy": "2024-10-15T18:41:37.73298Z",
          "iopub.execute_input": "2024-10-15T18:41:37.733286Z",
          "iopub.status.idle": "2024-10-15T18:41:37.737362Z",
          "shell.execute_reply.started": "2024-10-15T18:41:37.733251Z",
          "shell.execute_reply": "2024-10-15T18:41:37.736467Z"
        },
        "trusted": true,
        "id": "OB9Wf7wUca81"
      },
      "execution_count": null,
      "outputs": []
    },
    {
      "cell_type": "code",
      "source": [
        "# crossval(threedConv, 100, X_train, y_train, X_test, y_test)"
      ],
      "metadata": {
        "execution": {
          "iopub.status.busy": "2024-10-15T18:41:37.738472Z",
          "iopub.execute_input": "2024-10-15T18:41:37.738732Z",
          "iopub.status.idle": "2024-10-15T18:41:37.746969Z",
          "shell.execute_reply.started": "2024-10-15T18:41:37.738702Z",
          "shell.execute_reply": "2024-10-15T18:41:37.746101Z"
        },
        "trusted": true,
        "id": "pVIH3BCmca82"
      },
      "execution_count": null,
      "outputs": []
    },
    {
      "cell_type": "code",
      "source": [
        "X = _X.transpose(0, 5, 2,3, 4, 1)[:,:,:,:,:,1]\n",
        "\n",
        "X = X.reshape(X.shape[0], X.shape[1], X.shape[2], X.shape[3], np.prod(X.shape[4:]))\n",
        "print(X.shape)\n",
        "X_train, X_test, y_train, y_test = train_test_split(\n",
        "    X, y, test_size=0.2, random_state=42)"
      ],
      "metadata": {
        "execution": {
          "iopub.status.busy": "2024-10-15T18:41:37.748014Z",
          "iopub.execute_input": "2024-10-15T18:41:37.748376Z",
          "iopub.status.idle": "2024-10-15T18:41:37.81939Z",
          "shell.execute_reply.started": "2024-10-15T18:41:37.748332Z",
          "shell.execute_reply": "2024-10-15T18:41:37.818422Z"
        },
        "trusted": true,
        "id": "MpLI3_2vca82"
      },
      "execution_count": null,
      "outputs": []
    },
    {
      "cell_type": "code",
      "source": [
        "crossval_loso(convlstm2d, 100, X_loso, y_loso)"
      ],
      "metadata": {
        "execution": {
          "iopub.status.busy": "2024-10-15T18:41:37.822621Z",
          "iopub.execute_input": "2024-10-15T18:41:37.823257Z",
          "iopub.status.idle": "2024-10-15T19:00:04.558093Z",
          "shell.execute_reply.started": "2024-10-15T18:41:37.82321Z",
          "shell.execute_reply": "2024-10-15T19:00:04.557162Z"
        },
        "trusted": true,
        "id": "g1Y7wx03ca82"
      },
      "execution_count": null,
      "outputs": []
    },
    {
      "cell_type": "code",
      "source": [
        "crossval(convlstm2d, 100, X_train, y_train, X_test, y_test)"
      ],
      "metadata": {
        "execution": {
          "iopub.status.busy": "2024-10-15T19:00:04.559369Z",
          "iopub.execute_input": "2024-10-15T19:00:04.559688Z",
          "iopub.status.idle": "2024-10-15T19:06:52.947308Z",
          "shell.execute_reply.started": "2024-10-15T19:00:04.559654Z",
          "shell.execute_reply": "2024-10-15T19:06:52.946396Z"
        },
        "trusted": true,
        "id": "Hynd4Szfca82"
      },
      "execution_count": null,
      "outputs": []
    },
    {
      "cell_type": "code",
      "source": [
        "# crossval_loso(threedConv, 100, X_loso, y_loso)"
      ],
      "metadata": {
        "execution": {
          "iopub.status.busy": "2024-10-15T19:06:52.948644Z",
          "iopub.execute_input": "2024-10-15T19:06:52.94898Z",
          "iopub.status.idle": "2024-10-15T19:06:52.953136Z",
          "shell.execute_reply.started": "2024-10-15T19:06:52.948944Z",
          "shell.execute_reply": "2024-10-15T19:06:52.952111Z"
        },
        "trusted": true,
        "id": "ELGV9M9Oca83"
      },
      "execution_count": null,
      "outputs": []
    },
    {
      "cell_type": "code",
      "source": [],
      "metadata": {
        "trusted": true,
        "id": "08IxvzRNca83"
      },
      "execution_count": null,
      "outputs": []
    }
  ]
}